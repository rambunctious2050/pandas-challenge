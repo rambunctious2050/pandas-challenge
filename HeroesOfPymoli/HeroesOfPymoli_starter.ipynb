{
 "cells": [
  {
   "cell_type": "markdown",
   "metadata": {},
   "source": [
    "### Note\n",
    "* Instructions have been included for each segment. You do not have to follow them exactly, but they are included to help you think through the steps."
   ]
  },
  {
   "cell_type": "code",
   "execution_count": 70,
   "metadata": {},
   "outputs": [
    {
     "data": {
      "text/html": [
       "<style>.container { width:100% !important; }</style>"
      ],
      "text/plain": [
       "<IPython.core.display.HTML object>"
      ]
     },
     "metadata": {},
     "output_type": "display_data"
    }
   ],
   "source": [
    "from IPython.core.display import display, HTML\n",
    "display(HTML(\"<style>.container { width:100% !important; }</style>\"))"
   ]
  },
  {
   "cell_type": "code",
   "execution_count": 71,
   "metadata": {},
   "outputs": [],
   "source": [
    "# Dependencies and Setup\n",
    "import pandas as pd\n",
    "\n",
    "# File to Load\n",
    "file_to_load = \"Resources/purchase_data.csv\"\n",
    "\n",
    "# Read Purchasing File and store into Pandas data frame\n",
    "purchase_data = pd.read_csv(file_to_load)"
   ]
  },
  {
   "cell_type": "markdown",
   "metadata": {},
   "source": [
    "## Player Count"
   ]
  },
  {
   "cell_type": "markdown",
   "metadata": {},
   "source": [
    "* Display the total number of players\n"
   ]
  },
  {
   "cell_type": "code",
   "execution_count": 72,
   "metadata": {},
   "outputs": [
    {
     "data": {
      "text/html": [
       "<div>\n",
       "<style scoped>\n",
       "    .dataframe tbody tr th:only-of-type {\n",
       "        vertical-align: middle;\n",
       "    }\n",
       "\n",
       "    .dataframe tbody tr th {\n",
       "        vertical-align: top;\n",
       "    }\n",
       "\n",
       "    .dataframe thead th {\n",
       "        text-align: right;\n",
       "    }\n",
       "</style>\n",
       "<table border=\"1\" class=\"dataframe\">\n",
       "  <thead>\n",
       "    <tr style=\"text-align: right;\">\n",
       "      <th></th>\n",
       "      <th>Purchase ID</th>\n",
       "      <th>SN</th>\n",
       "      <th>Age</th>\n",
       "      <th>Gender</th>\n",
       "      <th>Item ID</th>\n",
       "      <th>Item Name</th>\n",
       "      <th>Price</th>\n",
       "    </tr>\n",
       "  </thead>\n",
       "  <tbody>\n",
       "    <tr>\n",
       "      <th>0</th>\n",
       "      <td>0</td>\n",
       "      <td>Lisim78</td>\n",
       "      <td>20</td>\n",
       "      <td>Male</td>\n",
       "      <td>108</td>\n",
       "      <td>Extraction, Quickblade Of Trembling Hands</td>\n",
       "      <td>3.53</td>\n",
       "    </tr>\n",
       "    <tr>\n",
       "      <th>1</th>\n",
       "      <td>1</td>\n",
       "      <td>Lisovynya38</td>\n",
       "      <td>40</td>\n",
       "      <td>Male</td>\n",
       "      <td>143</td>\n",
       "      <td>Frenzied Scimitar</td>\n",
       "      <td>1.56</td>\n",
       "    </tr>\n",
       "    <tr>\n",
       "      <th>2</th>\n",
       "      <td>2</td>\n",
       "      <td>Ithergue48</td>\n",
       "      <td>24</td>\n",
       "      <td>Male</td>\n",
       "      <td>92</td>\n",
       "      <td>Final Critic</td>\n",
       "      <td>4.88</td>\n",
       "    </tr>\n",
       "    <tr>\n",
       "      <th>3</th>\n",
       "      <td>3</td>\n",
       "      <td>Chamassasya86</td>\n",
       "      <td>24</td>\n",
       "      <td>Male</td>\n",
       "      <td>100</td>\n",
       "      <td>Blindscythe</td>\n",
       "      <td>3.27</td>\n",
       "    </tr>\n",
       "    <tr>\n",
       "      <th>4</th>\n",
       "      <td>4</td>\n",
       "      <td>Iskosia90</td>\n",
       "      <td>23</td>\n",
       "      <td>Male</td>\n",
       "      <td>131</td>\n",
       "      <td>Fury</td>\n",
       "      <td>1.44</td>\n",
       "    </tr>\n",
       "  </tbody>\n",
       "</table>\n",
       "</div>"
      ],
      "text/plain": [
       "   Purchase ID             SN  Age Gender  Item ID  \\\n",
       "0            0        Lisim78   20   Male      108   \n",
       "1            1    Lisovynya38   40   Male      143   \n",
       "2            2     Ithergue48   24   Male       92   \n",
       "3            3  Chamassasya86   24   Male      100   \n",
       "4            4      Iskosia90   23   Male      131   \n",
       "\n",
       "                                   Item Name  Price  \n",
       "0  Extraction, Quickblade Of Trembling Hands   3.53  \n",
       "1                          Frenzied Scimitar   1.56  \n",
       "2                               Final Critic   4.88  \n",
       "3                                Blindscythe   3.27  \n",
       "4                                       Fury   1.44  "
      ]
     },
     "execution_count": 72,
     "metadata": {},
     "output_type": "execute_result"
    }
   ],
   "source": [
    "# Display file\n",
    "purchase_data.head()"
   ]
  },
  {
   "cell_type": "code",
   "execution_count": 73,
   "metadata": {},
   "outputs": [
    {
     "data": {
      "text/html": [
       "<div>\n",
       "<style scoped>\n",
       "    .dataframe tbody tr th:only-of-type {\n",
       "        vertical-align: middle;\n",
       "    }\n",
       "\n",
       "    .dataframe tbody tr th {\n",
       "        vertical-align: top;\n",
       "    }\n",
       "\n",
       "    .dataframe thead th {\n",
       "        text-align: right;\n",
       "    }\n",
       "</style>\n",
       "<table border=\"1\" class=\"dataframe\">\n",
       "  <thead>\n",
       "    <tr style=\"text-align: right;\">\n",
       "      <th></th>\n",
       "      <th>Total Players</th>\n",
       "    </tr>\n",
       "  </thead>\n",
       "  <tbody>\n",
       "    <tr>\n",
       "      <th>0</th>\n",
       "      <td>576</td>\n",
       "    </tr>\n",
       "  </tbody>\n",
       "</table>\n",
       "</div>"
      ],
      "text/plain": [
       "   Total Players\n",
       "0            576"
      ]
     },
     "execution_count": 73,
     "metadata": {},
     "output_type": "execute_result"
    }
   ],
   "source": [
    "# The dataset can have multiple entries per player. Find the number of unique players.\n",
    "Players = purchase_data[\"SN\"].unique()\n",
    "Total_Players = len(Players)\n",
    "Total_Players_df = pd.DataFrame({\"Total Players\": [Total_Players]})\n",
    "\n",
    "Total_Players_df"
   ]
  },
  {
   "cell_type": "markdown",
   "metadata": {},
   "source": [
    "## Purchasing Analysis (Total)"
   ]
  },
  {
   "cell_type": "markdown",
   "metadata": {},
   "source": [
    "* Run basic calculations to obtain number of unique items, average price, etc.\n",
    "\n",
    "\n",
    "* Create a summary data frame to hold the results\n",
    "\n",
    "\n",
    "* Optional: give the displayed data cleaner formatting\n",
    "\n",
    "\n",
    "* Display the summary data frame\n"
   ]
  },
  {
   "cell_type": "code",
   "execution_count": 74,
   "metadata": {},
   "outputs": [
    {
     "data": {
      "text/html": [
       "<style  type=\"text/css\" >\n",
       "</style><table id=\"T_a23ed034_05d8_11eb_a5b7_d89c6725fa28\" ><thead>    <tr>        <th class=\"blank level0\" ></th>        <th class=\"col_heading level0 col0\" >Number of Unique Items</th>        <th class=\"col_heading level0 col1\" >Average Price</th>        <th class=\"col_heading level0 col2\" >Number of Purchases</th>        <th class=\"col_heading level0 col3\" >Total Revenue</th>    </tr></thead><tbody>\n",
       "                <tr>\n",
       "                        <th id=\"T_a23ed034_05d8_11eb_a5b7_d89c6725fa28level0_row0\" class=\"row_heading level0 row0\" >0</th>\n",
       "                        <td id=\"T_a23ed034_05d8_11eb_a5b7_d89c6725fa28row0_col0\" class=\"data row0 col0\" >179</td>\n",
       "                        <td id=\"T_a23ed034_05d8_11eb_a5b7_d89c6725fa28row0_col1\" class=\"data row0 col1\" >$3.05</td>\n",
       "                        <td id=\"T_a23ed034_05d8_11eb_a5b7_d89c6725fa28row0_col2\" class=\"data row0 col2\" >780</td>\n",
       "                        <td id=\"T_a23ed034_05d8_11eb_a5b7_d89c6725fa28row0_col3\" class=\"data row0 col3\" >$2,379.77</td>\n",
       "            </tr>\n",
       "    </tbody></table>"
      ],
      "text/plain": [
       "<pandas.io.formats.style.Styler at 0x2a0d2bbce10>"
      ]
     },
     "execution_count": 74,
     "metadata": {},
     "output_type": "execute_result"
    }
   ],
   "source": [
    "#Calculate number of unique items purchased\n",
    "unique_items = purchase_data[\"Item Name\"].unique()\n",
    "num_unique_items = len(unique_items)\n",
    "#Average price of items\n",
    "avg_price = purchase_data[\"Price\"].mean()\n",
    "#Number of purchases\n",
    "num_purchases = len(purchase_data[\"Purchase ID\"])\n",
    "#Total revenue\n",
    "tot_revenue = purchase_data[\"Price\"].sum()\n",
    "\n",
    "#Create dataframe of purchasing analysis and format\n",
    "Purchasing_Analysis_df = pd.DataFrame({\"Number of Unique Items\": [num_unique_items],\n",
    "                                       \"Average Price\":[avg_price],\n",
    "                                       \"Number of Purchases\":[num_purchases],\n",
    "                                       \"Total Revenue\":[tot_revenue]\n",
    "                                      })\n",
    "Purchasing_Analysis_df.style.format({\"Average Price\": \"${:.2f}\",\n",
    "                                    \"Total Revenue\": \"${:,.2f}\"\n",
    "                                    })"
   ]
  },
  {
   "cell_type": "markdown",
   "metadata": {},
   "source": [
    "## Gender Demographics"
   ]
  },
  {
   "cell_type": "markdown",
   "metadata": {},
   "source": [
    "* Percentage and Count of Male Players\n",
    "\n",
    "\n",
    "* Percentage and Count of Female Players\n",
    "\n",
    "\n",
    "* Percentage and Count of Other / Non-Disclosed\n",
    "\n",
    "\n"
   ]
  },
  {
   "cell_type": "code",
   "execution_count": 75,
   "metadata": {},
   "outputs": [
    {
     "data": {
      "text/html": [
       "<style  type=\"text/css\" >\n",
       "</style><table id=\"T_a39a3f5c_05d8_11eb_a67a_d89c6725fa28\" ><thead>    <tr>        <th class=\"blank level0\" ></th>        <th class=\"col_heading level0 col0\" >Total Count</th>        <th class=\"col_heading level0 col1\" >Percentage of Players</th>    </tr></thead><tbody>\n",
       "                <tr>\n",
       "                        <th id=\"T_a39a3f5c_05d8_11eb_a67a_d89c6725fa28level0_row0\" class=\"row_heading level0 row0\" >Male</th>\n",
       "                        <td id=\"T_a39a3f5c_05d8_11eb_a67a_d89c6725fa28row0_col0\" class=\"data row0 col0\" >484</td>\n",
       "                        <td id=\"T_a39a3f5c_05d8_11eb_a67a_d89c6725fa28row0_col1\" class=\"data row0 col1\" >84.03%</td>\n",
       "            </tr>\n",
       "            <tr>\n",
       "                        <th id=\"T_a39a3f5c_05d8_11eb_a67a_d89c6725fa28level0_row1\" class=\"row_heading level0 row1\" >Female</th>\n",
       "                        <td id=\"T_a39a3f5c_05d8_11eb_a67a_d89c6725fa28row1_col0\" class=\"data row1 col0\" >81</td>\n",
       "                        <td id=\"T_a39a3f5c_05d8_11eb_a67a_d89c6725fa28row1_col1\" class=\"data row1 col1\" >14.06%</td>\n",
       "            </tr>\n",
       "            <tr>\n",
       "                        <th id=\"T_a39a3f5c_05d8_11eb_a67a_d89c6725fa28level0_row2\" class=\"row_heading level0 row2\" >Other / Non-Disclosed</th>\n",
       "                        <td id=\"T_a39a3f5c_05d8_11eb_a67a_d89c6725fa28row2_col0\" class=\"data row2 col0\" >11</td>\n",
       "                        <td id=\"T_a39a3f5c_05d8_11eb_a67a_d89c6725fa28row2_col1\" class=\"data row2 col1\" >1.91%</td>\n",
       "            </tr>\n",
       "    </tbody></table>"
      ],
      "text/plain": [
       "<pandas.io.formats.style.Styler at 0x2a0d28de7b8>"
      ]
     },
     "execution_count": 75,
     "metadata": {},
     "output_type": "execute_result"
    }
   ],
   "source": [
    "#Find Gender for Unique Player Names\n",
    "UniqueName_df = purchase_data.drop_duplicates(subset=['SN'])\n",
    "Gender_Count = pd.value_counts(UniqueName_df[\"Gender\"])\n",
    "Percentage_Players = (Gender_Count / Total_Players)*100\n",
    "\n",
    "#Create new dataframe with Gender data\n",
    "Players_Gender_df = pd.DataFrame({\"Total Count\": Gender_Count,\"Percentage of Players\": Percentage_Players})\n",
    "Players_Gender_df.style.format({\"Percentage of Players\": \"{:.2f}%\"})\n"
   ]
  },
  {
   "cell_type": "markdown",
   "metadata": {},
   "source": [
    "\n",
    "## Purchasing Analysis (Gender)"
   ]
  },
  {
   "cell_type": "markdown",
   "metadata": {},
   "source": [
    "* Run basic calculations to obtain purchase count, avg. purchase price, avg. purchase total per person etc. by gender\n",
    "\n",
    "\n",
    "\n",
    "\n",
    "* Create a summary data frame to hold the results\n",
    "\n",
    "\n",
    "* Optional: give the displayed data cleaner formatting\n",
    "\n",
    "\n",
    "* Display the summary data frame"
   ]
  },
  {
   "cell_type": "code",
   "execution_count": 76,
   "metadata": {},
   "outputs": [
    {
     "data": {
      "text/html": [
       "<style  type=\"text/css\" >\n",
       "</style><table id=\"T_a5083754_05d8_11eb_85cf_d89c6725fa28\" ><thead>    <tr>        <th class=\"blank level0\" ></th>        <th class=\"col_heading level0 col0\" >Purchase Count</th>        <th class=\"col_heading level0 col1\" >Average Purchase Price</th>        <th class=\"col_heading level0 col2\" >Total Purchase Value</th>        <th class=\"col_heading level0 col3\" >Avg Total Purchase per Person</th>    </tr>    <tr>        <th class=\"index_name level0\" >Gender</th>        <th class=\"blank\" ></th>        <th class=\"blank\" ></th>        <th class=\"blank\" ></th>        <th class=\"blank\" ></th>    </tr></thead><tbody>\n",
       "                <tr>\n",
       "                        <th id=\"T_a5083754_05d8_11eb_85cf_d89c6725fa28level0_row0\" class=\"row_heading level0 row0\" >Female</th>\n",
       "                        <td id=\"T_a5083754_05d8_11eb_85cf_d89c6725fa28row0_col0\" class=\"data row0 col0\" >113</td>\n",
       "                        <td id=\"T_a5083754_05d8_11eb_85cf_d89c6725fa28row0_col1\" class=\"data row0 col1\" >$3.20</td>\n",
       "                        <td id=\"T_a5083754_05d8_11eb_85cf_d89c6725fa28row0_col2\" class=\"data row0 col2\" >$361.94</td>\n",
       "                        <td id=\"T_a5083754_05d8_11eb_85cf_d89c6725fa28row0_col3\" class=\"data row0 col3\" >$4.47</td>\n",
       "            </tr>\n",
       "            <tr>\n",
       "                        <th id=\"T_a5083754_05d8_11eb_85cf_d89c6725fa28level0_row1\" class=\"row_heading level0 row1\" >Male</th>\n",
       "                        <td id=\"T_a5083754_05d8_11eb_85cf_d89c6725fa28row1_col0\" class=\"data row1 col0\" >652</td>\n",
       "                        <td id=\"T_a5083754_05d8_11eb_85cf_d89c6725fa28row1_col1\" class=\"data row1 col1\" >$3.02</td>\n",
       "                        <td id=\"T_a5083754_05d8_11eb_85cf_d89c6725fa28row1_col2\" class=\"data row1 col2\" >$1,967.64</td>\n",
       "                        <td id=\"T_a5083754_05d8_11eb_85cf_d89c6725fa28row1_col3\" class=\"data row1 col3\" >$4.07</td>\n",
       "            </tr>\n",
       "            <tr>\n",
       "                        <th id=\"T_a5083754_05d8_11eb_85cf_d89c6725fa28level0_row2\" class=\"row_heading level0 row2\" >Other / Non-Disclosed</th>\n",
       "                        <td id=\"T_a5083754_05d8_11eb_85cf_d89c6725fa28row2_col0\" class=\"data row2 col0\" >15</td>\n",
       "                        <td id=\"T_a5083754_05d8_11eb_85cf_d89c6725fa28row2_col1\" class=\"data row2 col1\" >$3.35</td>\n",
       "                        <td id=\"T_a5083754_05d8_11eb_85cf_d89c6725fa28row2_col2\" class=\"data row2 col2\" >$50.19</td>\n",
       "                        <td id=\"T_a5083754_05d8_11eb_85cf_d89c6725fa28row2_col3\" class=\"data row2 col3\" >$4.56</td>\n",
       "            </tr>\n",
       "    </tbody></table>"
      ],
      "text/plain": [
       "<pandas.io.formats.style.Styler at 0x2a0d28ed940>"
      ]
     },
     "execution_count": 76,
     "metadata": {},
     "output_type": "execute_result"
    }
   ],
   "source": [
    "#Find number of purchases made by each Gender\n",
    "purchase_data.head()\n",
    "Purchase_Count = pd.value_counts(purchase_data[\"Gender\"],sort=False)\n",
    "#Find the total purchase value for each Gender\n",
    "Gender_Group_Sum = purchase_data.groupby([\"Gender\"]).sum()\n",
    "Total_Purchase_Value = Gender_Group_Sum[\"Price\"]\n",
    "#Find the average price of purchases made by each Gender\n",
    "Gender_Group_Avg = purchase_data.groupby([\"Gender\"]).mean()\n",
    "Avg_Purchase_Price = Gender_Group_Avg[\"Price\"]\n",
    "#Find the average total purchase per person for each Gender\n",
    "Avg_Tot_Purchase_Person = (Total_Purchase_Value/Gender_Count)\n",
    "\n",
    "#Create new dataframe with Gender data\n",
    "Purchasing_Analysis_Gender_df = pd.DataFrame({\"Purchase Count\": Purchase_Count,\n",
    "                                              \"Average Purchase Price\": Avg_Purchase_Price,\n",
    "                                              \"Total Purchase Value\":Total_Purchase_Value,\n",
    "                                              \"Avg Total Purchase per Person\":Avg_Tot_Purchase_Person\n",
    "                                             })\n",
    "Purchasing_Analysis_Gender_df.style.format({\"Average Purchase Price\": \"${:.2f}\",\n",
    "                                            \"Total Purchase Value\": \"${:,.2f}\",\n",
    "                                            \"Avg Total Purchase per Person\":\"${:.2f}\"                                           \n",
    "                                           })"
   ]
  },
  {
   "cell_type": "markdown",
   "metadata": {},
   "source": [
    "## Age Demographics"
   ]
  },
  {
   "cell_type": "markdown",
   "metadata": {},
   "source": [
    "* Establish bins for ages\n",
    "\n",
    "\n",
    "* Categorize the existing players using the age bins. Hint: use pd.cut()\n",
    "\n",
    "\n",
    "* Calculate the numbers and percentages by age group\n",
    "\n",
    "\n",
    "* Create a summary data frame to hold the results\n",
    "\n",
    "\n",
    "* Optional: round the percentage column to two decimal points\n",
    "\n",
    "\n",
    "* Display Age Demographics Table\n"
   ]
  },
  {
   "cell_type": "code",
   "execution_count": 77,
   "metadata": {},
   "outputs": [
    {
     "data": {
      "text/html": [
       "<style  type=\"text/css\" >\n",
       "</style><table id=\"T_a669b868_05d8_11eb_862e_d89c6725fa28\" ><thead>    <tr>        <th class=\"blank level0\" ></th>        <th class=\"col_heading level0 col0\" >Total Count</th>        <th class=\"col_heading level0 col1\" >Percentage of Players</th>    </tr>    <tr>        <th class=\"index_name level0\" >Age Range</th>        <th class=\"blank\" ></th>        <th class=\"blank\" ></th>    </tr></thead><tbody>\n",
       "                <tr>\n",
       "                        <th id=\"T_a669b868_05d8_11eb_862e_d89c6725fa28level0_row0\" class=\"row_heading level0 row0\" ><10</th>\n",
       "                        <td id=\"T_a669b868_05d8_11eb_862e_d89c6725fa28row0_col0\" class=\"data row0 col0\" >17</td>\n",
       "                        <td id=\"T_a669b868_05d8_11eb_862e_d89c6725fa28row0_col1\" class=\"data row0 col1\" >2.95%</td>\n",
       "            </tr>\n",
       "            <tr>\n",
       "                        <th id=\"T_a669b868_05d8_11eb_862e_d89c6725fa28level0_row1\" class=\"row_heading level0 row1\" >10-14</th>\n",
       "                        <td id=\"T_a669b868_05d8_11eb_862e_d89c6725fa28row1_col0\" class=\"data row1 col0\" >22</td>\n",
       "                        <td id=\"T_a669b868_05d8_11eb_862e_d89c6725fa28row1_col1\" class=\"data row1 col1\" >3.82%</td>\n",
       "            </tr>\n",
       "            <tr>\n",
       "                        <th id=\"T_a669b868_05d8_11eb_862e_d89c6725fa28level0_row2\" class=\"row_heading level0 row2\" >15-19</th>\n",
       "                        <td id=\"T_a669b868_05d8_11eb_862e_d89c6725fa28row2_col0\" class=\"data row2 col0\" >107</td>\n",
       "                        <td id=\"T_a669b868_05d8_11eb_862e_d89c6725fa28row2_col1\" class=\"data row2 col1\" >18.58%</td>\n",
       "            </tr>\n",
       "            <tr>\n",
       "                        <th id=\"T_a669b868_05d8_11eb_862e_d89c6725fa28level0_row3\" class=\"row_heading level0 row3\" >20-24</th>\n",
       "                        <td id=\"T_a669b868_05d8_11eb_862e_d89c6725fa28row3_col0\" class=\"data row3 col0\" >258</td>\n",
       "                        <td id=\"T_a669b868_05d8_11eb_862e_d89c6725fa28row3_col1\" class=\"data row3 col1\" >44.79%</td>\n",
       "            </tr>\n",
       "            <tr>\n",
       "                        <th id=\"T_a669b868_05d8_11eb_862e_d89c6725fa28level0_row4\" class=\"row_heading level0 row4\" >25-29</th>\n",
       "                        <td id=\"T_a669b868_05d8_11eb_862e_d89c6725fa28row4_col0\" class=\"data row4 col0\" >77</td>\n",
       "                        <td id=\"T_a669b868_05d8_11eb_862e_d89c6725fa28row4_col1\" class=\"data row4 col1\" >13.37%</td>\n",
       "            </tr>\n",
       "            <tr>\n",
       "                        <th id=\"T_a669b868_05d8_11eb_862e_d89c6725fa28level0_row5\" class=\"row_heading level0 row5\" >30-34</th>\n",
       "                        <td id=\"T_a669b868_05d8_11eb_862e_d89c6725fa28row5_col0\" class=\"data row5 col0\" >52</td>\n",
       "                        <td id=\"T_a669b868_05d8_11eb_862e_d89c6725fa28row5_col1\" class=\"data row5 col1\" >9.03%</td>\n",
       "            </tr>\n",
       "            <tr>\n",
       "                        <th id=\"T_a669b868_05d8_11eb_862e_d89c6725fa28level0_row6\" class=\"row_heading level0 row6\" >35-39</th>\n",
       "                        <td id=\"T_a669b868_05d8_11eb_862e_d89c6725fa28row6_col0\" class=\"data row6 col0\" >31</td>\n",
       "                        <td id=\"T_a669b868_05d8_11eb_862e_d89c6725fa28row6_col1\" class=\"data row6 col1\" >5.38%</td>\n",
       "            </tr>\n",
       "            <tr>\n",
       "                        <th id=\"T_a669b868_05d8_11eb_862e_d89c6725fa28level0_row7\" class=\"row_heading level0 row7\" >40+</th>\n",
       "                        <td id=\"T_a669b868_05d8_11eb_862e_d89c6725fa28row7_col0\" class=\"data row7 col0\" >12</td>\n",
       "                        <td id=\"T_a669b868_05d8_11eb_862e_d89c6725fa28row7_col1\" class=\"data row7 col1\" >2.08%</td>\n",
       "            </tr>\n",
       "    </tbody></table>"
      ],
      "text/plain": [
       "<pandas.io.formats.style.Styler at 0x2a0cf621a58>"
      ]
     },
     "execution_count": 77,
     "metadata": {},
     "output_type": "execute_result"
    }
   ],
   "source": [
    "# Create the bins in which ages will be held \n",
    "bins = [0, 9, 14, 19, 24, 29, 34, 39, max(purchase_data[\"Age\"])]\n",
    "\n",
    "# Create the names for the bins for the age ranges\n",
    "group_names = [\"<10\", \"10-14\", \"15-19\", \"20-24\", \"25-29\",\"30-34\",\"35-39\",\"40+\"]\n",
    "\n",
    "# Make a copy of the dataframe that has unique players to modify by adding the Age Range column\n",
    "Unique_df = UniqueName_df.copy()\n",
    "Unique_df[\"Age Range\"] = pd.cut(Unique_df[\"Age\"], bins, labels=group_names, include_lowest=True)\n",
    "\n",
    "# Find total count and percentage of players within each age range \n",
    "Total_Count = Unique_df.groupby([\"Age Range\"]).size()\n",
    "\n",
    "Percentage_Players = (Total_Count/Total_Players)*100\n",
    "\n",
    "# New dataframe for age demographics\n",
    "Age_Demo_df = pd.DataFrame({\"Total Count\": Total_Count,\"Percentage of Players\": Percentage_Players})\n",
    "\n",
    "Age_Demo_df.style.format({ \"Percentage of Players\": \"{:.2f}%\" })\n",
    "\n"
   ]
  },
  {
   "cell_type": "markdown",
   "metadata": {},
   "source": [
    "## Purchasing Analysis (Age)"
   ]
  },
  {
   "cell_type": "markdown",
   "metadata": {},
   "source": [
    "* Bin the purchase_data data frame by age\n",
    "\n",
    "\n",
    "* Run basic calculations to obtain purchase count, avg. purchase price, avg. purchase total per person etc. in the table below\n",
    "\n",
    "\n",
    "* Create a summary data frame to hold the results\n",
    "\n",
    "\n",
    "* Optional: give the displayed data cleaner formatting\n",
    "\n",
    "\n",
    "* Display the summary data frame"
   ]
  },
  {
   "cell_type": "code",
   "execution_count": 78,
   "metadata": {},
   "outputs": [
    {
     "data": {
      "text/html": [
       "<style  type=\"text/css\" >\n",
       "</style><table id=\"T_a8241522_05d8_11eb_a4d0_d89c6725fa28\" ><thead>    <tr>        <th class=\"blank level0\" ></th>        <th class=\"col_heading level0 col0\" >Purchase Count</th>        <th class=\"col_heading level0 col1\" >Average Purchase Price</th>        <th class=\"col_heading level0 col2\" >Total Purchase Value</th>        <th class=\"col_heading level0 col3\" >Avg Total Purchase per Person</th>    </tr>    <tr>        <th class=\"index_name level0\" >Age Range</th>        <th class=\"blank\" ></th>        <th class=\"blank\" ></th>        <th class=\"blank\" ></th>        <th class=\"blank\" ></th>    </tr></thead><tbody>\n",
       "                <tr>\n",
       "                        <th id=\"T_a8241522_05d8_11eb_a4d0_d89c6725fa28level0_row0\" class=\"row_heading level0 row0\" ><10</th>\n",
       "                        <td id=\"T_a8241522_05d8_11eb_a4d0_d89c6725fa28row0_col0\" class=\"data row0 col0\" >23</td>\n",
       "                        <td id=\"T_a8241522_05d8_11eb_a4d0_d89c6725fa28row0_col1\" class=\"data row0 col1\" >$3.35</td>\n",
       "                        <td id=\"T_a8241522_05d8_11eb_a4d0_d89c6725fa28row0_col2\" class=\"data row0 col2\" >$77.13</td>\n",
       "                        <td id=\"T_a8241522_05d8_11eb_a4d0_d89c6725fa28row0_col3\" class=\"data row0 col3\" >$4.54</td>\n",
       "            </tr>\n",
       "            <tr>\n",
       "                        <th id=\"T_a8241522_05d8_11eb_a4d0_d89c6725fa28level0_row1\" class=\"row_heading level0 row1\" >10-14</th>\n",
       "                        <td id=\"T_a8241522_05d8_11eb_a4d0_d89c6725fa28row1_col0\" class=\"data row1 col0\" >28</td>\n",
       "                        <td id=\"T_a8241522_05d8_11eb_a4d0_d89c6725fa28row1_col1\" class=\"data row1 col1\" >$2.96</td>\n",
       "                        <td id=\"T_a8241522_05d8_11eb_a4d0_d89c6725fa28row1_col2\" class=\"data row1 col2\" >$82.78</td>\n",
       "                        <td id=\"T_a8241522_05d8_11eb_a4d0_d89c6725fa28row1_col3\" class=\"data row1 col3\" >$3.76</td>\n",
       "            </tr>\n",
       "            <tr>\n",
       "                        <th id=\"T_a8241522_05d8_11eb_a4d0_d89c6725fa28level0_row2\" class=\"row_heading level0 row2\" >15-19</th>\n",
       "                        <td id=\"T_a8241522_05d8_11eb_a4d0_d89c6725fa28row2_col0\" class=\"data row2 col0\" >136</td>\n",
       "                        <td id=\"T_a8241522_05d8_11eb_a4d0_d89c6725fa28row2_col1\" class=\"data row2 col1\" >$3.04</td>\n",
       "                        <td id=\"T_a8241522_05d8_11eb_a4d0_d89c6725fa28row2_col2\" class=\"data row2 col2\" >$412.89</td>\n",
       "                        <td id=\"T_a8241522_05d8_11eb_a4d0_d89c6725fa28row2_col3\" class=\"data row2 col3\" >$3.86</td>\n",
       "            </tr>\n",
       "            <tr>\n",
       "                        <th id=\"T_a8241522_05d8_11eb_a4d0_d89c6725fa28level0_row3\" class=\"row_heading level0 row3\" >20-24</th>\n",
       "                        <td id=\"T_a8241522_05d8_11eb_a4d0_d89c6725fa28row3_col0\" class=\"data row3 col0\" >365</td>\n",
       "                        <td id=\"T_a8241522_05d8_11eb_a4d0_d89c6725fa28row3_col1\" class=\"data row3 col1\" >$3.05</td>\n",
       "                        <td id=\"T_a8241522_05d8_11eb_a4d0_d89c6725fa28row3_col2\" class=\"data row3 col2\" >$1,114.06</td>\n",
       "                        <td id=\"T_a8241522_05d8_11eb_a4d0_d89c6725fa28row3_col3\" class=\"data row3 col3\" >$4.32</td>\n",
       "            </tr>\n",
       "            <tr>\n",
       "                        <th id=\"T_a8241522_05d8_11eb_a4d0_d89c6725fa28level0_row4\" class=\"row_heading level0 row4\" >25-29</th>\n",
       "                        <td id=\"T_a8241522_05d8_11eb_a4d0_d89c6725fa28row4_col0\" class=\"data row4 col0\" >101</td>\n",
       "                        <td id=\"T_a8241522_05d8_11eb_a4d0_d89c6725fa28row4_col1\" class=\"data row4 col1\" >$2.90</td>\n",
       "                        <td id=\"T_a8241522_05d8_11eb_a4d0_d89c6725fa28row4_col2\" class=\"data row4 col2\" >$293.00</td>\n",
       "                        <td id=\"T_a8241522_05d8_11eb_a4d0_d89c6725fa28row4_col3\" class=\"data row4 col3\" >$3.81</td>\n",
       "            </tr>\n",
       "            <tr>\n",
       "                        <th id=\"T_a8241522_05d8_11eb_a4d0_d89c6725fa28level0_row5\" class=\"row_heading level0 row5\" >30-34</th>\n",
       "                        <td id=\"T_a8241522_05d8_11eb_a4d0_d89c6725fa28row5_col0\" class=\"data row5 col0\" >73</td>\n",
       "                        <td id=\"T_a8241522_05d8_11eb_a4d0_d89c6725fa28row5_col1\" class=\"data row5 col1\" >$2.93</td>\n",
       "                        <td id=\"T_a8241522_05d8_11eb_a4d0_d89c6725fa28row5_col2\" class=\"data row5 col2\" >$214.00</td>\n",
       "                        <td id=\"T_a8241522_05d8_11eb_a4d0_d89c6725fa28row5_col3\" class=\"data row5 col3\" >$4.12</td>\n",
       "            </tr>\n",
       "            <tr>\n",
       "                        <th id=\"T_a8241522_05d8_11eb_a4d0_d89c6725fa28level0_row6\" class=\"row_heading level0 row6\" >35-39</th>\n",
       "                        <td id=\"T_a8241522_05d8_11eb_a4d0_d89c6725fa28row6_col0\" class=\"data row6 col0\" >41</td>\n",
       "                        <td id=\"T_a8241522_05d8_11eb_a4d0_d89c6725fa28row6_col1\" class=\"data row6 col1\" >$3.60</td>\n",
       "                        <td id=\"T_a8241522_05d8_11eb_a4d0_d89c6725fa28row6_col2\" class=\"data row6 col2\" >$147.67</td>\n",
       "                        <td id=\"T_a8241522_05d8_11eb_a4d0_d89c6725fa28row6_col3\" class=\"data row6 col3\" >$4.76</td>\n",
       "            </tr>\n",
       "            <tr>\n",
       "                        <th id=\"T_a8241522_05d8_11eb_a4d0_d89c6725fa28level0_row7\" class=\"row_heading level0 row7\" >40+</th>\n",
       "                        <td id=\"T_a8241522_05d8_11eb_a4d0_d89c6725fa28row7_col0\" class=\"data row7 col0\" >13</td>\n",
       "                        <td id=\"T_a8241522_05d8_11eb_a4d0_d89c6725fa28row7_col1\" class=\"data row7 col1\" >$2.94</td>\n",
       "                        <td id=\"T_a8241522_05d8_11eb_a4d0_d89c6725fa28row7_col2\" class=\"data row7 col2\" >$38.24</td>\n",
       "                        <td id=\"T_a8241522_05d8_11eb_a4d0_d89c6725fa28row7_col3\" class=\"data row7 col3\" >$3.19</td>\n",
       "            </tr>\n",
       "    </tbody></table>"
      ],
      "text/plain": [
       "<pandas.io.formats.style.Styler at 0x2a0cd615be0>"
      ]
     },
     "execution_count": 78,
     "metadata": {},
     "output_type": "execute_result"
    }
   ],
   "source": [
    "# Make a copy of the original dataframe to add Age Range column\n",
    "new_purchase_data = purchase_data.copy()\n",
    "new_purchase_data[\"Age Range\"]=pd.cut(new_purchase_data[\"Age\"], bins, labels=group_names, include_lowest=True)\n",
    "\n",
    "# Find the number of purchases made, average purchase price, total purchase price, average total purchase per person\n",
    "Age_Count = pd.value_counts(Unique_df[\"Age Range\"])\n",
    "Purchase_Count = pd.value_counts(new_purchase_data[\"Age Range\"],sort=False)\n",
    "Age_Group_Sum = new_purchase_data.groupby([\"Age Range\"]).sum()\n",
    "Total_Purchase_Value = Age_Group_Sum[\"Price\"]\n",
    "Age_Group_Avg = new_purchase_data.groupby([\"Age Range\"]).mean()\n",
    "Avg_Purchase_Price = Age_Group_Avg[\"Price\"]\n",
    "Avg_Tot_Purchase_Person = (Total_Purchase_Value/Age_Count)\n",
    "\n",
    "#Create new dataframe with Age Range data, make Age Range the index of this dataframe and format\n",
    "Purchasing_Analysis_Age_df = pd.DataFrame({\"Purchase Count\": Purchase_Count,\n",
    "                                              \"Average Purchase Price\": Avg_Purchase_Price,\n",
    "                                              \"Total Purchase Value\":Total_Purchase_Value,\n",
    "                                              \"Avg Total Purchase per Person\":Avg_Tot_Purchase_Person\n",
    "                                             })\n",
    "Purchasing_Analysis_Age_df.index.names = ['Age Range']\n",
    "\n",
    "Purchasing_Analysis_Age_df.style.format({\"Average Purchase Price\": \"${:.2f}\",\n",
    "                                        \"Total Purchase Value\": \"${:,.2f}\",\n",
    "                                        \"Avg Total Purchase per Person\":\"${:.2f}\"                                           \n",
    "                                        })\n",
    "         "
   ]
  },
  {
   "cell_type": "markdown",
   "metadata": {},
   "source": [
    "## Top Spenders"
   ]
  },
  {
   "cell_type": "markdown",
   "metadata": {},
   "source": [
    "* Run basic calculations to obtain the results in the table below\n",
    "\n",
    "\n",
    "* Create a summary data frame to hold the results\n",
    "\n",
    "\n",
    "* Sort the total purchase value column in descending order\n",
    "\n",
    "\n",
    "* Optional: give the displayed data cleaner formatting\n",
    "\n",
    "\n",
    "* Display a preview of the summary data frame\n",
    "\n"
   ]
  },
  {
   "cell_type": "code",
   "execution_count": 80,
   "metadata": {},
   "outputs": [
    {
     "data": {
      "text/html": [
       "<style  type=\"text/css\" >\n",
       "</style><table id=\"T_b100e7b4_05d8_11eb_a3d1_d89c6725fa28\" ><thead>    <tr>        <th class=\"blank level0\" ></th>        <th class=\"col_heading level0 col0\" >Purchase Count</th>        <th class=\"col_heading level0 col1\" >Average Purchase Price</th>        <th class=\"col_heading level0 col2\" >Total Purchase Value</th>    </tr>    <tr>        <th class=\"index_name level0\" >SN</th>        <th class=\"blank\" ></th>        <th class=\"blank\" ></th>        <th class=\"blank\" ></th>    </tr></thead><tbody>\n",
       "                <tr>\n",
       "                        <th id=\"T_b100e7b4_05d8_11eb_a3d1_d89c6725fa28level0_row0\" class=\"row_heading level0 row0\" >Lisosia93</th>\n",
       "                        <td id=\"T_b100e7b4_05d8_11eb_a3d1_d89c6725fa28row0_col0\" class=\"data row0 col0\" >5</td>\n",
       "                        <td id=\"T_b100e7b4_05d8_11eb_a3d1_d89c6725fa28row0_col1\" class=\"data row0 col1\" >$3.79</td>\n",
       "                        <td id=\"T_b100e7b4_05d8_11eb_a3d1_d89c6725fa28row0_col2\" class=\"data row0 col2\" >$18.96</td>\n",
       "            </tr>\n",
       "            <tr>\n",
       "                        <th id=\"T_b100e7b4_05d8_11eb_a3d1_d89c6725fa28level0_row1\" class=\"row_heading level0 row1\" >Idastidru52</th>\n",
       "                        <td id=\"T_b100e7b4_05d8_11eb_a3d1_d89c6725fa28row1_col0\" class=\"data row1 col0\" >4</td>\n",
       "                        <td id=\"T_b100e7b4_05d8_11eb_a3d1_d89c6725fa28row1_col1\" class=\"data row1 col1\" >$3.86</td>\n",
       "                        <td id=\"T_b100e7b4_05d8_11eb_a3d1_d89c6725fa28row1_col2\" class=\"data row1 col2\" >$15.45</td>\n",
       "            </tr>\n",
       "            <tr>\n",
       "                        <th id=\"T_b100e7b4_05d8_11eb_a3d1_d89c6725fa28level0_row2\" class=\"row_heading level0 row2\" >Chamjask73</th>\n",
       "                        <td id=\"T_b100e7b4_05d8_11eb_a3d1_d89c6725fa28row2_col0\" class=\"data row2 col0\" >3</td>\n",
       "                        <td id=\"T_b100e7b4_05d8_11eb_a3d1_d89c6725fa28row2_col1\" class=\"data row2 col1\" >$4.61</td>\n",
       "                        <td id=\"T_b100e7b4_05d8_11eb_a3d1_d89c6725fa28row2_col2\" class=\"data row2 col2\" >$13.83</td>\n",
       "            </tr>\n",
       "            <tr>\n",
       "                        <th id=\"T_b100e7b4_05d8_11eb_a3d1_d89c6725fa28level0_row3\" class=\"row_heading level0 row3\" >Iral74</th>\n",
       "                        <td id=\"T_b100e7b4_05d8_11eb_a3d1_d89c6725fa28row3_col0\" class=\"data row3 col0\" >4</td>\n",
       "                        <td id=\"T_b100e7b4_05d8_11eb_a3d1_d89c6725fa28row3_col1\" class=\"data row3 col1\" >$3.40</td>\n",
       "                        <td id=\"T_b100e7b4_05d8_11eb_a3d1_d89c6725fa28row3_col2\" class=\"data row3 col2\" >$13.62</td>\n",
       "            </tr>\n",
       "            <tr>\n",
       "                        <th id=\"T_b100e7b4_05d8_11eb_a3d1_d89c6725fa28level0_row4\" class=\"row_heading level0 row4\" >Iskadarya95</th>\n",
       "                        <td id=\"T_b100e7b4_05d8_11eb_a3d1_d89c6725fa28row4_col0\" class=\"data row4 col0\" >3</td>\n",
       "                        <td id=\"T_b100e7b4_05d8_11eb_a3d1_d89c6725fa28row4_col1\" class=\"data row4 col1\" >$4.37</td>\n",
       "                        <td id=\"T_b100e7b4_05d8_11eb_a3d1_d89c6725fa28row4_col2\" class=\"data row4 col2\" >$13.10</td>\n",
       "            </tr>\n",
       "    </tbody></table>"
      ],
      "text/plain": [
       "<pandas.io.formats.style.Styler at 0x2a0d28debe0>"
      ]
     },
     "execution_count": 80,
     "metadata": {},
     "output_type": "execute_result"
    }
   ],
   "source": [
    "# Calculate some metrics for each player\n",
    "Purchase_Count = pd.value_counts(purchase_data[\"SN\"])\n",
    "Avg_SN = purchase_data.groupby([\"SN\"]).mean()\n",
    "Avg_Purchase_Price = Avg_SN[\"Price\"]\n",
    "Sum_SN = purchase_data.groupby(['SN']).sum()\n",
    "Tot_Purchase_Value = Sum_SN[\"Price\"]\n",
    "\n",
    "# Create a new dataframe with Spender data, and use that to create a top 5 Spender dataframe\n",
    "Spenders_df = pd.DataFrame({\"Purchase Count\": Purchase_Count,\n",
    "                            \"Average Purchase Price\": Avg_Purchase_Price,\n",
    "                            \"Total Purchase Value\":Tot_Purchase_Value\n",
    "                            })\n",
    "Spenders_df.index.names = ['SN']\n",
    "Spenders_df = Spenders_df.sort_values(by=['Total Purchase Value'],ascending=False)\n",
    "Top_Spenders_df = Spenders_df.head()\n",
    "Top_Spenders_df.style.format({\"Average Purchase Price\": \"${:.2f}\",\n",
    "                          \"Total Purchase Value\": \"${:.2f}\"                                           \n",
    "                         })"
   ]
  },
  {
   "cell_type": "markdown",
   "metadata": {},
   "source": [
    "## Most Popular Items"
   ]
  },
  {
   "cell_type": "markdown",
   "metadata": {},
   "source": [
    "* Retrieve the Item ID, Item Name, and Item Price columns\n",
    "\n",
    "\n",
    "* Group by Item ID and Item Name. Perform calculations to obtain purchase count, average item price, and total purchase value\n",
    "\n",
    "\n",
    "* Create a summary data frame to hold the results\n",
    "\n",
    "\n",
    "* Sort the purchase count column in descending order\n",
    "\n",
    "\n",
    "* Optional: give the displayed data cleaner formatting\n",
    "\n",
    "\n",
    "* Display a preview of the summary data frame\n",
    "\n"
   ]
  },
  {
   "cell_type": "code",
   "execution_count": 81,
   "metadata": {},
   "outputs": [
    {
     "data": {
      "text/html": [
       "<style  type=\"text/css\" >\n",
       "</style><table id=\"T_b35e4ce4_05d8_11eb_8ef5_d89c6725fa28\" ><thead>    <tr>        <th class=\"blank\" ></th>        <th class=\"blank level0\" ></th>        <th class=\"col_heading level0 col0\" >Purchase Count</th>        <th class=\"col_heading level0 col1\" >Average Item Price</th>        <th class=\"col_heading level0 col2\" >Total Purchase Value</th>    </tr>    <tr>        <th class=\"index_name level0\" >Item ID</th>        <th class=\"index_name level1\" >Item Name</th>        <th class=\"blank\" ></th>        <th class=\"blank\" ></th>        <th class=\"blank\" ></th>    </tr></thead><tbody>\n",
       "                <tr>\n",
       "                        <th id=\"T_b35e4ce4_05d8_11eb_8ef5_d89c6725fa28level0_row0\" class=\"row_heading level0 row0\" >92</th>\n",
       "                        <th id=\"T_b35e4ce4_05d8_11eb_8ef5_d89c6725fa28level1_row0\" class=\"row_heading level1 row0\" >Final Critic</th>\n",
       "                        <td id=\"T_b35e4ce4_05d8_11eb_8ef5_d89c6725fa28row0_col0\" class=\"data row0 col0\" >13</td>\n",
       "                        <td id=\"T_b35e4ce4_05d8_11eb_8ef5_d89c6725fa28row0_col1\" class=\"data row0 col1\" >$4.61</td>\n",
       "                        <td id=\"T_b35e4ce4_05d8_11eb_8ef5_d89c6725fa28row0_col2\" class=\"data row0 col2\" >$59.99</td>\n",
       "            </tr>\n",
       "            <tr>\n",
       "                        <th id=\"T_b35e4ce4_05d8_11eb_8ef5_d89c6725fa28level0_row1\" class=\"row_heading level0 row1\" >178</th>\n",
       "                        <th id=\"T_b35e4ce4_05d8_11eb_8ef5_d89c6725fa28level1_row1\" class=\"row_heading level1 row1\" >Oathbreaker, Last Hope of the Breaking Storm</th>\n",
       "                        <td id=\"T_b35e4ce4_05d8_11eb_8ef5_d89c6725fa28row1_col0\" class=\"data row1 col0\" >12</td>\n",
       "                        <td id=\"T_b35e4ce4_05d8_11eb_8ef5_d89c6725fa28row1_col1\" class=\"data row1 col1\" >$4.23</td>\n",
       "                        <td id=\"T_b35e4ce4_05d8_11eb_8ef5_d89c6725fa28row1_col2\" class=\"data row1 col2\" >$50.76</td>\n",
       "            </tr>\n",
       "            <tr>\n",
       "                        <th id=\"T_b35e4ce4_05d8_11eb_8ef5_d89c6725fa28level0_row2\" class=\"row_heading level0 row2\" >145</th>\n",
       "                        <th id=\"T_b35e4ce4_05d8_11eb_8ef5_d89c6725fa28level1_row2\" class=\"row_heading level1 row2\" >Fiery Glass Crusader</th>\n",
       "                        <td id=\"T_b35e4ce4_05d8_11eb_8ef5_d89c6725fa28row2_col0\" class=\"data row2 col0\" >9</td>\n",
       "                        <td id=\"T_b35e4ce4_05d8_11eb_8ef5_d89c6725fa28row2_col1\" class=\"data row2 col1\" >$4.58</td>\n",
       "                        <td id=\"T_b35e4ce4_05d8_11eb_8ef5_d89c6725fa28row2_col2\" class=\"data row2 col2\" >$41.22</td>\n",
       "            </tr>\n",
       "            <tr>\n",
       "                        <th id=\"T_b35e4ce4_05d8_11eb_8ef5_d89c6725fa28level0_row3\" class=\"row_heading level0 row3\" >132</th>\n",
       "                        <th id=\"T_b35e4ce4_05d8_11eb_8ef5_d89c6725fa28level1_row3\" class=\"row_heading level1 row3\" >Persuasion</th>\n",
       "                        <td id=\"T_b35e4ce4_05d8_11eb_8ef5_d89c6725fa28row3_col0\" class=\"data row3 col0\" >9</td>\n",
       "                        <td id=\"T_b35e4ce4_05d8_11eb_8ef5_d89c6725fa28row3_col1\" class=\"data row3 col1\" >$3.22</td>\n",
       "                        <td id=\"T_b35e4ce4_05d8_11eb_8ef5_d89c6725fa28row3_col2\" class=\"data row3 col2\" >$28.99</td>\n",
       "            </tr>\n",
       "            <tr>\n",
       "                        <th id=\"T_b35e4ce4_05d8_11eb_8ef5_d89c6725fa28level0_row4\" class=\"row_heading level0 row4\" >108</th>\n",
       "                        <th id=\"T_b35e4ce4_05d8_11eb_8ef5_d89c6725fa28level1_row4\" class=\"row_heading level1 row4\" >Extraction, Quickblade Of Trembling Hands</th>\n",
       "                        <td id=\"T_b35e4ce4_05d8_11eb_8ef5_d89c6725fa28row4_col0\" class=\"data row4 col0\" >9</td>\n",
       "                        <td id=\"T_b35e4ce4_05d8_11eb_8ef5_d89c6725fa28row4_col1\" class=\"data row4 col1\" >$3.53</td>\n",
       "                        <td id=\"T_b35e4ce4_05d8_11eb_8ef5_d89c6725fa28row4_col2\" class=\"data row4 col2\" >$31.77</td>\n",
       "            </tr>\n",
       "    </tbody></table>"
      ],
      "text/plain": [
       "<pandas.io.formats.style.Styler at 0x2a0d2aa6588>"
      ]
     },
     "execution_count": 81,
     "metadata": {},
     "output_type": "execute_result"
    }
   ],
   "source": [
    "# Group Item ID and Item Name and make a few calculations\n",
    "Item_df = purchase_data[[\"Item ID\",\"Item Name\",\"Price\"]]\n",
    "\n",
    "Purchase_Count = Item_df.groupby([\"Item ID\",\"Item Name\"]).size()\n",
    "\n",
    "Avg_Item =Item_df.groupby([\"Item ID\",\"Item Name\"]).mean()\n",
    "Avg_Item_Price = Avg_Item[\"Price\"]\n",
    "\n",
    "Sum_Item = Item_df.groupby([\"Item ID\",\"Item Name\"]).sum()\n",
    "Tot_Purchase_Value = Sum_Item[\"Price\"]\n",
    "\n",
    "# Create a new dataframe and make Item ID and Item Name the indicies\n",
    "Items_Analysis_df = pd.DataFrame({\n",
    "                            \"Purchase Count\": Purchase_Count,\n",
    "                            \"Average Item Price\": Avg_Item_Price,\n",
    "                            \"Total Purchase Value\":Tot_Purchase_Value\n",
    "                            })\n",
    "\n",
    "Items_Analysis_df = Items_Analysis_df.sort_values(by=['Purchase Count'], ascending=False)\n",
    "Popular_Items_df = Items_Analysis_df.head()\n",
    "\n",
    "Popular_Items_df.style.format({\"Purchase Count\": \"{:.0f}\",\n",
    "                            \"Average Item Price\": \"${:.2f}\",\n",
    "                          \"Total Purchase Value\": \"${:.2f}\"                                           \n",
    "                        })\n",
    "\n"
   ]
  },
  {
   "cell_type": "markdown",
   "metadata": {},
   "source": [
    "## Most Profitable Items"
   ]
  },
  {
   "cell_type": "markdown",
   "metadata": {},
   "source": [
    "* Sort the above table by total purchase value in descending order\n",
    "\n",
    "\n",
    "* Optional: give the displayed data cleaner formatting\n",
    "\n",
    "\n",
    "* Display a preview of the data frame\n",
    "\n"
   ]
  },
  {
   "cell_type": "code",
   "execution_count": 82,
   "metadata": {
    "scrolled": true
   },
   "outputs": [
    {
     "data": {
      "text/html": [
       "<style  type=\"text/css\" >\n",
       "</style><table id=\"T_b4c63ef0_05d8_11eb_bd62_d89c6725fa28\" ><thead>    <tr>        <th class=\"blank\" ></th>        <th class=\"blank level0\" ></th>        <th class=\"col_heading level0 col0\" >Purchase Count</th>        <th class=\"col_heading level0 col1\" >Average Item Price</th>        <th class=\"col_heading level0 col2\" >Total Purchase Value</th>    </tr>    <tr>        <th class=\"index_name level0\" >Item ID</th>        <th class=\"index_name level1\" >Item Name</th>        <th class=\"blank\" ></th>        <th class=\"blank\" ></th>        <th class=\"blank\" ></th>    </tr></thead><tbody>\n",
       "                <tr>\n",
       "                        <th id=\"T_b4c63ef0_05d8_11eb_bd62_d89c6725fa28level0_row0\" class=\"row_heading level0 row0\" >92</th>\n",
       "                        <th id=\"T_b4c63ef0_05d8_11eb_bd62_d89c6725fa28level1_row0\" class=\"row_heading level1 row0\" >Final Critic</th>\n",
       "                        <td id=\"T_b4c63ef0_05d8_11eb_bd62_d89c6725fa28row0_col0\" class=\"data row0 col0\" >13</td>\n",
       "                        <td id=\"T_b4c63ef0_05d8_11eb_bd62_d89c6725fa28row0_col1\" class=\"data row0 col1\" >$4.61</td>\n",
       "                        <td id=\"T_b4c63ef0_05d8_11eb_bd62_d89c6725fa28row0_col2\" class=\"data row0 col2\" >$59.99</td>\n",
       "            </tr>\n",
       "            <tr>\n",
       "                        <th id=\"T_b4c63ef0_05d8_11eb_bd62_d89c6725fa28level0_row1\" class=\"row_heading level0 row1\" >178</th>\n",
       "                        <th id=\"T_b4c63ef0_05d8_11eb_bd62_d89c6725fa28level1_row1\" class=\"row_heading level1 row1\" >Oathbreaker, Last Hope of the Breaking Storm</th>\n",
       "                        <td id=\"T_b4c63ef0_05d8_11eb_bd62_d89c6725fa28row1_col0\" class=\"data row1 col0\" >12</td>\n",
       "                        <td id=\"T_b4c63ef0_05d8_11eb_bd62_d89c6725fa28row1_col1\" class=\"data row1 col1\" >$4.23</td>\n",
       "                        <td id=\"T_b4c63ef0_05d8_11eb_bd62_d89c6725fa28row1_col2\" class=\"data row1 col2\" >$50.76</td>\n",
       "            </tr>\n",
       "            <tr>\n",
       "                        <th id=\"T_b4c63ef0_05d8_11eb_bd62_d89c6725fa28level0_row2\" class=\"row_heading level0 row2\" >82</th>\n",
       "                        <th id=\"T_b4c63ef0_05d8_11eb_bd62_d89c6725fa28level1_row2\" class=\"row_heading level1 row2\" >Nirvana</th>\n",
       "                        <td id=\"T_b4c63ef0_05d8_11eb_bd62_d89c6725fa28row2_col0\" class=\"data row2 col0\" >9</td>\n",
       "                        <td id=\"T_b4c63ef0_05d8_11eb_bd62_d89c6725fa28row2_col1\" class=\"data row2 col1\" >$4.90</td>\n",
       "                        <td id=\"T_b4c63ef0_05d8_11eb_bd62_d89c6725fa28row2_col2\" class=\"data row2 col2\" >$44.10</td>\n",
       "            </tr>\n",
       "            <tr>\n",
       "                        <th id=\"T_b4c63ef0_05d8_11eb_bd62_d89c6725fa28level0_row3\" class=\"row_heading level0 row3\" >145</th>\n",
       "                        <th id=\"T_b4c63ef0_05d8_11eb_bd62_d89c6725fa28level1_row3\" class=\"row_heading level1 row3\" >Fiery Glass Crusader</th>\n",
       "                        <td id=\"T_b4c63ef0_05d8_11eb_bd62_d89c6725fa28row3_col0\" class=\"data row3 col0\" >9</td>\n",
       "                        <td id=\"T_b4c63ef0_05d8_11eb_bd62_d89c6725fa28row3_col1\" class=\"data row3 col1\" >$4.58</td>\n",
       "                        <td id=\"T_b4c63ef0_05d8_11eb_bd62_d89c6725fa28row3_col2\" class=\"data row3 col2\" >$41.22</td>\n",
       "            </tr>\n",
       "            <tr>\n",
       "                        <th id=\"T_b4c63ef0_05d8_11eb_bd62_d89c6725fa28level0_row4\" class=\"row_heading level0 row4\" >103</th>\n",
       "                        <th id=\"T_b4c63ef0_05d8_11eb_bd62_d89c6725fa28level1_row4\" class=\"row_heading level1 row4\" >Singed Scalpel</th>\n",
       "                        <td id=\"T_b4c63ef0_05d8_11eb_bd62_d89c6725fa28row4_col0\" class=\"data row4 col0\" >8</td>\n",
       "                        <td id=\"T_b4c63ef0_05d8_11eb_bd62_d89c6725fa28row4_col1\" class=\"data row4 col1\" >$4.35</td>\n",
       "                        <td id=\"T_b4c63ef0_05d8_11eb_bd62_d89c6725fa28row4_col2\" class=\"data row4 col2\" >$34.80</td>\n",
       "            </tr>\n",
       "    </tbody></table>"
      ],
      "text/plain": [
       "<pandas.io.formats.style.Styler at 0x2a0d2efaf60>"
      ]
     },
     "execution_count": 82,
     "metadata": {},
     "output_type": "execute_result"
    }
   ],
   "source": [
    "# Create a new dataframe that shows the most profitable items\n",
    "Profitable_df = Items_Analysis_df.sort_values(by=['Total Purchase Value'], ascending=False)\n",
    "Most_Profitable_Items_df = Profitable_df.head()\n",
    "\n",
    "\n",
    "Most_Profitable_Items_df.style.format({\"Purchase Count\": \"{:.0f}\",\n",
    "                            \"Average Item Price\": \"${:.2f}\",\n",
    "                          \"Total Purchase Value\": \"${:.2f}\"                                           \n",
    "                        })\n"
   ]
  }
 ],
 "metadata": {
  "anaconda-cloud": {},
  "kernel_info": {
   "name": "python3"
  },
  "kernelspec": {
   "display_name": "Python 3",
   "language": "python",
   "name": "python3"
  },
  "language_info": {
   "codemirror_mode": {
    "name": "ipython",
    "version": 3
   },
   "file_extension": ".py",
   "mimetype": "text/x-python",
   "name": "python",
   "nbconvert_exporter": "python",
   "pygments_lexer": "ipython3",
   "version": "3.6.10"
  },
  "latex_envs": {
   "LaTeX_envs_menu_present": true,
   "autoclose": false,
   "autocomplete": true,
   "bibliofile": "biblio.bib",
   "cite_by": "apalike",
   "current_citInitial": 1,
   "eqLabelWithNumbers": true,
   "eqNumInitial": 1,
   "hotkeys": {
    "equation": "Ctrl-E",
    "itemize": "Ctrl-I"
   },
   "labels_anchors": false,
   "latex_user_defs": false,
   "report_style_numbering": false,
   "user_envs_cfg": false
  },
  "nteract": {
   "version": "0.2.0"
  }
 },
 "nbformat": 4,
 "nbformat_minor": 2
}
